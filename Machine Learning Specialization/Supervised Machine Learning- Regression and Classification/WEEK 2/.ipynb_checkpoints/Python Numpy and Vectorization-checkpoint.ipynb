{
 "cells": [
  {
   "cell_type": "code",
   "execution_count": 1,
   "id": "0ed72b47",
   "metadata": {},
   "outputs": [],
   "source": [
    "import numpy as np\n",
    "import time"
   ]
  },
  {
   "cell_type": "code",
   "execution_count": 2,
   "id": "0ac22ac1",
   "metadata": {},
   "outputs": [
    {
     "name": "stdout",
     "output_type": "stream",
     "text": [
      "np.zeros(4) :   a = [0. 0. 0. 0.], a shape = (4,), a data type = float64\n",
      "np.zeros(4) :   a = [0. 0. 0. 0.], a shape = (4,), a data type = float64\n",
      "np.random.random_sample(4) :   a = [0.39849243 0.15244795 0.74837646 0.70746633], a shape = (4,), a data type = float64\n"
     ]
    }
   ],
   "source": [
    "# Vector creation\n",
    "# Numpy routines which allocate memory and fill arrays with value\n",
    "a = np.zeros(4);  print(f\"np.zeros(4) :   a = {a}, a shape = {a.shape}, a data type = {a.dtype}\")\n",
    "a = np.zeros((4,)); print(f\"np.zeros(4) :   a = {a}, a shape = {a.shape}, a data type = {a.dtype}\")\n",
    "a = np.random.random_sample(4); print(f\"np.random.random_sample(4) :   a = {a}, a shape = {a.shape}, a data type = {a.dtype}\")"
   ]
  },
  {
   "cell_type": "code",
   "execution_count": 4,
   "id": "6d18616a",
   "metadata": {},
   "outputs": [
    {
     "name": "stdout",
     "output_type": "stream",
     "text": [
      "np.arange(4.):     a = [0 1 2 3], a shape = (4,), a data type = int32\n",
      "np.random.rand(4): a = [0.50281227 0.77542765 0.17052701 0.86096002], a shape = (4,), a data type = float64\n"
     ]
    }
   ],
   "source": [
    "# Numpy routines which allocate memory and fill arrays with value but do not as input argument\n",
    "a = np.arange(4); print(f\"np.arange(4.):     a = {a}, a shape = {a.shape}, a data type = {a.dtype}\")\n",
    "a = np.random.rand(4); print(f\"np.random.rand(4): a = {a}, a shape = {a.shape}, a data type = {a.dtype}\")"
   ]
  },
  {
   "cell_type": "code",
   "execution_count": 6,
   "id": "ebc858e6",
   "metadata": {},
   "outputs": [
    {
     "name": "stdout",
     "output_type": "stream",
     "text": [
      "np.array([5,4,3,2]):  a = [5 4 3 2],     a shape = (4,), a data type = int32\n",
      "np.array([5.,4,3,2]):  a = [5. 4. 3. 2.],     a shape = (4,), a data type = float64\n"
     ]
    }
   ],
   "source": [
    "a = np.array([5, 4, 3, 2]);  print(f\"np.array([5,4,3,2]):  a = {a},     a shape = {a.shape}, a data type = {a.dtype}\")\n",
    "a = np.array([5., 4, 3, 2]);  print(f\"np.array([5.,4,3,2]):  a = {a},     a shape = {a.shape}, a data type = {a.dtype}\")"
   ]
  },
  {
   "cell_type": "code",
   "execution_count": 11,
   "id": "65150c1d",
   "metadata": {},
   "outputs": [
    {
     "name": "stdout",
     "output_type": "stream",
     "text": [
      "[0 1 2 3 4 5 6 7 8 9]\n",
      "a[2].shape: () a[2] = 2, Accessing an element returns a scalar\n",
      "a[-1] = 9\n",
      "The error message you'll see is:\n",
      "index 10 is out of bounds for axis 0 with size 10\n"
     ]
    }
   ],
   "source": [
    "# Indexing\n",
    "# Vector indexing operations on 1-D vectors\n",
    "a = np.arange(10)\n",
    "print(a)\n",
    "\n",
    "# access an element\n",
    "print(f\"a[2].shape: {a[2].shape} a[2] = {a[2]}, Accessing an element returns a scalar\")\n",
    "\n",
    "# access the last element, negative indexes count from the end\n",
    "print(f\"a[-1] = {a[-1]}\")\n",
    "\n",
    "#indexes must be within the range of the vector or they will produce and error\n",
    "try:\n",
    "    c = a[10]\n",
    "except Exception as e:\n",
    "    print(\"The error message you'll see is:\")\n",
    "    print(e)"
   ]
  },
  {
   "cell_type": "markdown",
   "id": "640b5acb",
   "metadata": {},
   "source": [
    "$Slicing$\n",
    "\n",
    "- slicing creates an array of indices using a set of three values (start: end: step)"
   ]
  },
  {
   "cell_type": "code",
   "execution_count": 20,
   "id": "c7e31b79",
   "metadata": {},
   "outputs": [
    {
     "name": "stdout",
     "output_type": "stream",
     "text": [
      "a  = [0 1 2 3 4 5 6 7 8 9]\n",
      "c = a[2:7:1] : [2 3 4 5 6]\n",
      "c = a[2:7:2] : [2 4 6]\n",
      "c = a[2::1] : [3 4 5 6 7 8 9]\n",
      "c = a[:3:1] : [0 1 2]\n",
      "c[:] = [0 1 2 3 4 5 6 7 8 9]\n"
     ]
    }
   ],
   "source": [
    "# Vector slicing operation\n",
    "a = np.arange(10)\n",
    "print(f\"a  = {a}\")\n",
    "\n",
    "# access 5 consecutive elements\n",
    "c = a[2:7:1]; print(f\"c = a[2:7:1] : {c}\")\n",
    "\n",
    "# access 3 elements seprated by two\n",
    "c = a[2:7:2]; print(f\"c = a[2:7:2] : {c}\")\n",
    "\n",
    "# access all elements index 3 and above\n",
    "c = a[3::1]; print(f\"c = a[2::1] : {c}\")\n",
    "\n",
    "# accesss all elements index 3 and below\n",
    "c = a[:3:1]; print(f\"c = a[:3:1] : {c}\")\n",
    "\n",
    "# access all the elements\n",
    "c = a[:]; print(f\"c[:] = {c}\")"
   ]
  },
  {
   "cell_type": "code",
   "execution_count": 25,
   "id": "a7567ae3",
   "metadata": {},
   "outputs": [
    {
     "name": "stdout",
     "output_type": "stream",
     "text": [
      "b = -a : [-1 -2 -3 -4]\n",
      "10\n",
      "2.5\n",
      "[ 1  4  9 16]\n"
     ]
    }
   ],
   "source": [
    "\n",
    "a = np.array([1, 2, 3, 4])\n",
    "\n",
    "# negate elements of a\n",
    "b = -a\n",
    "print(f\"b = -a : {b}\")\n",
    "\n",
    "# sum all elements of a , returns a scalar\n",
    "b = np.sum(a)\n",
    "print(b)\n",
    "\n",
    "b = np.mean(a)\n",
    "print(b)\n",
    "\n",
    "b = a**2\n",
    "print(b)"
   ]
  },
  {
   "cell_type": "code",
   "execution_count": null,
   "id": "91aba51d",
   "metadata": {},
   "outputs": [],
   "source": []
  }
 ],
 "metadata": {
  "kernelspec": {
   "display_name": "Python 3 (ipykernel)",
   "language": "python",
   "name": "python3"
  },
  "language_info": {
   "codemirror_mode": {
    "name": "ipython",
    "version": 3
   },
   "file_extension": ".py",
   "mimetype": "text/x-python",
   "name": "python",
   "nbconvert_exporter": "python",
   "pygments_lexer": "ipython3",
   "version": "3.9.16"
  }
 },
 "nbformat": 4,
 "nbformat_minor": 5
}
